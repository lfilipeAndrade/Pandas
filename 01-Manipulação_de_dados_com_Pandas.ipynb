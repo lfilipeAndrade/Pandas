{
  "nbformat": 4,
  "nbformat_minor": 0,
  "metadata": {
    "colab": {
      "name": "01-Manipulação de dados com Pandas.ipynb",
      "provenance": [],
      "authorship_tag": "ABX9TyO1WurO5iZ4kY9EYEg7Ozyx",
      "include_colab_link": true
    },
    "kernelspec": {
      "name": "python3",
      "display_name": "Python 3"
    },
    "language_info": {
      "name": "python"
    }
  },
  "cells": [
    {
      "cell_type": "markdown",
      "metadata": {
        "id": "view-in-github",
        "colab_type": "text"
      },
      "source": [
        "<a href=\"https://colab.research.google.com/github/lfilipeAndrade/Pandas/blob/main/01-Manipula%C3%A7%C3%A3o_de_dados_com_Pandas.ipynb\" target=\"_parent\"><img src=\"https://colab.research.google.com/assets/colab-badge.svg\" alt=\"Open In Colab\"/></a>"
      ]
    },
    {
      "cell_type": "markdown",
      "metadata": {
        "id": "DKOAJx3M9B0h"
      },
      "source": [
        "## Manipulação de dados com Pandas"
      ]
    },
    {
      "cell_type": "markdown",
      "metadata": {
        "id": "tqumbVf39Tj-"
      },
      "source": [
        "**Estruturas de dados com Pandas**\n",
        " \n",
        "pandas.Series() - 1 Dimenssão - 1D\n",
        " \n",
        "pandas.DataFrame() - 2 Dimenssões - 2D\n",
        " \n",
        "pandas.Panel() - 3 Dimenssões - 3D\n",
        " \n",
        "numpy.ndarray() - x Dimenssões"
      ]
    },
    {
      "cell_type": "markdown",
      "metadata": {
        "id": "09066EWwKWJ2"
      },
      "source": [
        "## Series"
      ]
    },
    {
      "cell_type": "code",
      "metadata": {
        "id": "IpQhSuih9EFl"
      },
      "source": [
        "import pandas as pd\n",
        "import numpy as np"
      ],
      "execution_count": 1,
      "outputs": []
    },
    {
      "cell_type": "markdown",
      "metadata": {
        "id": "TTOG1ytc_YHX"
      },
      "source": [
        "### Usando o Numpy ndarray como fonte"
      ]
    },
    {
      "cell_type": "code",
      "metadata": {
        "id": "37_Xq_kF_DMh"
      },
      "source": [
        "# random.seed garantirá que mesmo que executa várias vezes esta celula o valor random gerado não mudará\n",
        "np.random.seed(100)\n",
        "Serie1 = pd.Series(np.random.rand(10))"
      ],
      "execution_count": 2,
      "outputs": []
    },
    {
      "cell_type": "code",
      "metadata": {
        "colab": {
          "base_uri": "https://localhost:8080/"
        },
        "id": "QGbfPBoP_gru",
        "outputId": "422c78cb-e34f-4be1-db2d-9c7572f2ca3e"
      },
      "source": [
        "Serie1"
      ],
      "execution_count": 3,
      "outputs": [
        {
          "output_type": "execute_result",
          "data": {
            "text/plain": [
              "0    0.543405\n",
              "1    0.278369\n",
              "2    0.424518\n",
              "3    0.844776\n",
              "4    0.004719\n",
              "5    0.121569\n",
              "6    0.670749\n",
              "7    0.825853\n",
              "8    0.136707\n",
              "9    0.575093\n",
              "dtype: float64"
            ]
          },
          "metadata": {},
          "execution_count": 3
        }
      ]
    },
    {
      "cell_type": "code",
      "metadata": {
        "colab": {
          "base_uri": "https://localhost:8080/"
        },
        "id": "DhlXBqHy_pQk",
        "outputId": "369b8946-2285-44f8-dc5e-9d672e8d6c70"
      },
      "source": [
        "type(Serie1)"
      ],
      "execution_count": null,
      "outputs": [
        {
          "output_type": "execute_result",
          "data": {
            "text/plain": [
              "pandas.core.series.Series"
            ]
          },
          "metadata": {},
          "execution_count": 5
        }
      ]
    },
    {
      "cell_type": "code",
      "metadata": {
        "id": "fPUoFj5K_uLV"
      },
      "source": [
        "import calendar as cal"
      ],
      "execution_count": null,
      "outputs": []
    },
    {
      "cell_type": "code",
      "metadata": {
        "colab": {
          "base_uri": "https://localhost:8080/"
        },
        "id": "Cro_aLCg_xRM",
        "outputId": "e434cb03-def3-4404-eb55-9776d24281f6"
      },
      "source": [
        "meses = [cal.month_name[i] for i in np.arange(1,13)]\n",
        "meses_serie = pd.Series(np.arange(1,13),index = meses) # Criando um serie pandas de 1 até 12 e usando a lista meses como indece \n",
        "meses_serie"
      ],
      "execution_count": null,
      "outputs": [
        {
          "output_type": "execute_result",
          "data": {
            "text/plain": [
              "January       1\n",
              "February      2\n",
              "March         3\n",
              "April         4\n",
              "May           5\n",
              "June          6\n",
              "July          7\n",
              "August        8\n",
              "September     9\n",
              "October      10\n",
              "November     11\n",
              "December     12\n",
              "dtype: int64"
            ]
          },
          "metadata": {},
          "execution_count": 25
        }
      ]
    },
    {
      "cell_type": "code",
      "metadata": {
        "colab": {
          "base_uri": "https://localhost:8080/"
        },
        "id": "Qs52tZVNBUyN",
        "outputId": "1821d967-a8e3-49f0-b86b-87ed972310f8"
      },
      "source": [
        "meses_serie.index"
      ],
      "execution_count": null,
      "outputs": [
        {
          "output_type": "execute_result",
          "data": {
            "text/plain": [
              "Index(['January', 'February', 'March', 'April', 'May', 'June', 'July',\n",
              "       'August', 'September', 'October', 'November', 'December'],\n",
              "      dtype='object')"
            ]
          },
          "metadata": {},
          "execution_count": 32
        }
      ]
    },
    {
      "cell_type": "markdown",
      "metadata": {
        "id": "Sit8P1WBEBqO"
      },
      "source": [
        "### Usando Dicionários Python"
      ]
    },
    {
      "cell_type": "code",
      "metadata": {
        "id": "6cU27mBDCcNF"
      },
      "source": [
        "stockPrices = {'GOOG':1092.62, 'FB':1522.01, 'TWTR':225.18, 'AMZN':852.69,'AAPL':301.60}"
      ],
      "execution_count": null,
      "outputs": []
    },
    {
      "cell_type": "code",
      "metadata": {
        "id": "CTzACPcHEgf8"
      },
      "source": [
        "stockPrices_series = pd.Series(stockPrices,\n",
        "                               index = ['AAPL','FB','YHOO','TWTR','AMZN','GOOG','BIDI4'],\n",
        "                               name = 'stockPrices')"
      ],
      "execution_count": null,
      "outputs": []
    },
    {
      "cell_type": "code",
      "metadata": {
        "colab": {
          "base_uri": "https://localhost:8080/"
        },
        "id": "ArUWvZsDEsck",
        "outputId": "a9290c95-42c3-4c8b-deda-dfcf5f71bb18"
      },
      "source": [
        "stockPrices_series"
      ],
      "execution_count": null,
      "outputs": [
        {
          "output_type": "execute_result",
          "data": {
            "text/plain": [
              "AAPL      301.60\n",
              "FB       1522.01\n",
              "YHOO         NaN\n",
              "TWTR      225.18\n",
              "AMZN      852.69\n",
              "GOOG     1092.62\n",
              "BIDI4        NaN\n",
              "Name: stockPrices, dtype: float64"
            ]
          },
          "metadata": {},
          "execution_count": 40
        }
      ]
    },
    {
      "cell_type": "markdown",
      "metadata": {
        "id": "u8B_M6YbFkVz"
      },
      "source": [
        "### Usando valores escalares"
      ]
    },
    {
      "cell_type": "code",
      "metadata": {
        "colab": {
          "base_uri": "https://localhost:8080/"
        },
        "id": "4kRbq9i1Fnic",
        "outputId": "7bea650d-b164-4fe3-987c-64723b89671d"
      },
      "source": [
        "humanSeries = pd.Series('Homem',index=['cabeça','braços','Ombros','pescoço','pernas'], name= 'corpo humano')\n",
        "humanSeries"
      ],
      "execution_count": null,
      "outputs": [
        {
          "output_type": "execute_result",
          "data": {
            "text/plain": [
              "cabeça     Homem\n",
              "braços     Homem\n",
              "Ombros     Homem\n",
              "pescoço    Homem\n",
              "pernas     Homem\n",
              "Name: corpo humano, dtype: object"
            ]
          },
          "metadata": {},
          "execution_count": 42
        }
      ]
    },
    {
      "cell_type": "markdown",
      "metadata": {
        "id": "xEe4GF_DGMOn"
      },
      "source": [
        "### Operações com Series"
      ]
    },
    {
      "cell_type": "code",
      "metadata": {
        "colab": {
          "base_uri": "https://localhost:8080/"
        },
        "id": "5SQ4VqFkGE09",
        "outputId": "f2858e33-7a78-4ad2-aa15-56b745750b8f"
      },
      "source": [
        "# Alterando um elemento da série\n",
        "stockPrices_series['GOOG'] = 1100.02\n",
        "stockPrices_series"
      ],
      "execution_count": null,
      "outputs": [
        {
          "output_type": "execute_result",
          "data": {
            "text/plain": [
              "AAPL      301.60\n",
              "FB       1522.01\n",
              "YHOO         NaN\n",
              "TWTR      225.18\n",
              "AMZN      852.69\n",
              "GOOG     1100.02\n",
              "BIDI4        NaN\n",
              "Name: stockPrices, dtype: float64"
            ]
          },
          "metadata": {},
          "execution_count": 44
        }
      ]
    },
    {
      "cell_type": "code",
      "metadata": {
        "colab": {
          "base_uri": "https://localhost:8080/"
        },
        "id": "htwUGFONGoNF",
        "outputId": "e03cc629-c89d-4f0a-917a-2d034ffdce4f"
      },
      "source": [
        "# Retornar apenas o indice selecionado\n",
        "stockPrices_series['AAPL']"
      ],
      "execution_count": null,
      "outputs": [
        {
          "output_type": "execute_result",
          "data": {
            "text/plain": [
              "301.6"
            ]
          },
          "metadata": {},
          "execution_count": 45
        }
      ]
    },
    {
      "cell_type": "code",
      "metadata": {
        "colab": {
          "base_uri": "https://localhost:8080/"
        },
        "id": "refsECXyHJeM",
        "outputId": "45281eee-fd86-4868-f177-a0bd76112448"
      },
      "source": [
        "# Procurar um valor de indice na serie, se não encontrar, retornar NaN\n",
        "stockPrices_series.get('XPTO', np.NaN)"
      ],
      "execution_count": null,
      "outputs": [
        {
          "output_type": "execute_result",
          "data": {
            "text/plain": [
              "nan"
            ]
          },
          "metadata": {},
          "execution_count": 49
        }
      ]
    },
    {
      "cell_type": "markdown",
      "metadata": {
        "id": "h0u-cMsvG973"
      },
      "source": [
        "### Slicing"
      ]
    },
    {
      "cell_type": "code",
      "metadata": {
        "colab": {
          "base_uri": "https://localhost:8080/"
        },
        "id": "_0zQgXzHHIw4",
        "outputId": "02ed545a-9e7a-4572-d137-416376db4f52"
      },
      "source": [
        "stockPrices_series[:2]"
      ],
      "execution_count": null,
      "outputs": [
        {
          "output_type": "execute_result",
          "data": {
            "text/plain": [
              "AAPL     301.60\n",
              "FB      1522.01\n",
              "Name: stockPrices, dtype: float64"
            ]
          },
          "metadata": {},
          "execution_count": 51
        }
      ]
    },
    {
      "cell_type": "code",
      "metadata": {
        "colab": {
          "base_uri": "https://localhost:8080/"
        },
        "id": "fLK3FEdYGuTl",
        "outputId": "21667c4e-8eb3-4b89-f0f8-f0681577efd2"
      },
      "source": [
        "stockPrices_series[stockPrices_series > 1000]"
      ],
      "execution_count": null,
      "outputs": [
        {
          "output_type": "execute_result",
          "data": {
            "text/plain": [
              "FB      1522.01\n",
              "GOOG    1100.02\n",
              "Name: stockPrices, dtype: float64"
            ]
          },
          "metadata": {},
          "execution_count": 52
        }
      ]
    },
    {
      "cell_type": "markdown",
      "metadata": {
        "id": "wZhmPic1KRXY"
      },
      "source": [
        "## DataFrames"
      ]
    },
    {
      "cell_type": "code",
      "metadata": {
        "id": "pnrxyAdnKehM"
      },
      "source": [
        "stock = {'AMZN': pd.Series([346.15,0.59,459,0.52,589.8,158.88],\n",
        "                           index = ['Closing price','EPS','Shares Outstanding(M)', \n",
        "                                  'Beta', 'P/E','Market Cap(B)']),\n",
        "         'GOOG': pd.Series([1133.43,36.05,335.83,0.87,31.44,380.64],\n",
        "                            index = ['Closing price','EPS','Shares Outstanding(M)',\n",
        "                                  'Beta','P/E','Market Cap(B)']),\n",
        "         'FB': pd.Series([61.48,0.59,2450,104.93,150.92],\n",
        "                            index = ['Closing price','EPS','Shares Outstanding(M)',\n",
        "                                  'P/E', 'Market Cap(B)']),\n",
        "         'YHOO': pd.Series([34.90,1.27,1010,27.48,0.66,35.36],\n",
        "                            index=['Closing price','EPS','Shares Outstanding(M)',\n",
        "                                  'P/E','Beta', 'Market Cap(B)']),\n",
        "         'TWTR':pd.Series([65.25,-0.3,555.2,36.23],\n",
        "                            index=['Closing price','EPS','Shares Outstanding(M)',\n",
        "                                  'Market Cap(B)']),\n",
        "         'AAPL':pd.Series([501.53,40.32,892.45,12.44,447.59,0.84],\n",
        "                            index=['Closing price','EPS','Shares Outstanding(M)','P/E',\n",
        "                                  'Market Cap(B)','Beta'])}"
      ],
      "execution_count": null,
      "outputs": []
    },
    {
      "cell_type": "code",
      "metadata": {
        "colab": {
          "base_uri": "https://localhost:8080/"
        },
        "id": "QeDyk0jNKifE",
        "outputId": "3ce85504-95ed-4c57-b26e-c4459dbad5a7"
      },
      "source": [
        "stock"
      ],
      "execution_count": null,
      "outputs": [
        {
          "output_type": "execute_result",
          "data": {
            "text/plain": [
              "{'AAPL': Closing price            501.53\n",
              " EPS                       40.32\n",
              " Shares Outstanding(M)    892.45\n",
              " P/E                       12.44\n",
              " Market Cap(B)            447.59\n",
              " Beta                       0.84\n",
              " dtype: float64, 'AMZN': Closing price            346.15\n",
              " EPS                        0.59\n",
              " Shares Outstanding(M)    459.00\n",
              " Beta                       0.52\n",
              " P/E                      589.80\n",
              " Market Cap(B)            158.88\n",
              " dtype: float64, 'FB': Closing price              61.48\n",
              " EPS                         0.59\n",
              " Shares Outstanding(M)    2450.00\n",
              " P/E                       104.93\n",
              " Market Cap(B)             150.92\n",
              " dtype: float64, 'GOOG': Closing price            1133.43\n",
              " EPS                        36.05\n",
              " Shares Outstanding(M)     335.83\n",
              " Beta                        0.87\n",
              " P/E                        31.44\n",
              " Market Cap(B)             380.64\n",
              " dtype: float64, 'TWTR': Closing price             65.25\n",
              " EPS                       -0.30\n",
              " Shares Outstanding(M)    555.20\n",
              " Market Cap(B)             36.23\n",
              " dtype: float64, 'YHOO': Closing price              34.90\n",
              " EPS                         1.27\n",
              " Shares Outstanding(M)    1010.00\n",
              " P/E                        27.48\n",
              " Beta                        0.66\n",
              " Market Cap(B)              35.36\n",
              " dtype: float64}"
            ]
          },
          "metadata": {},
          "execution_count": 54
        }
      ]
    },
    {
      "cell_type": "code",
      "metadata": {
        "colab": {
          "base_uri": "https://localhost:8080/"
        },
        "id": "rBE52z0-K0m0",
        "outputId": "0888214a-1f10-4ad3-c306-84c6e964465d"
      },
      "source": [
        "stock['GOOG']['EPS']"
      ],
      "execution_count": null,
      "outputs": [
        {
          "output_type": "execute_result",
          "data": {
            "text/plain": [
              "36.05"
            ]
          },
          "metadata": {},
          "execution_count": 57
        }
      ]
    },
    {
      "cell_type": "code",
      "metadata": {
        "colab": {
          "base_uri": "https://localhost:8080/",
          "height": 234
        },
        "id": "S2843WjnLV48",
        "outputId": "57fc809e-8941-40a9-b030-a55e960053b3"
      },
      "source": [
        "stock_df = pd.DataFrame(stock)\n",
        "stock_df"
      ],
      "execution_count": null,
      "outputs": [
        {
          "output_type": "execute_result",
          "data": {
            "text/html": [
              "<div>\n",
              "<style scoped>\n",
              "    .dataframe tbody tr th:only-of-type {\n",
              "        vertical-align: middle;\n",
              "    }\n",
              "\n",
              "    .dataframe tbody tr th {\n",
              "        vertical-align: top;\n",
              "    }\n",
              "\n",
              "    .dataframe thead th {\n",
              "        text-align: right;\n",
              "    }\n",
              "</style>\n",
              "<table border=\"1\" class=\"dataframe\">\n",
              "  <thead>\n",
              "    <tr style=\"text-align: right;\">\n",
              "      <th></th>\n",
              "      <th>AMZN</th>\n",
              "      <th>GOOG</th>\n",
              "      <th>FB</th>\n",
              "      <th>YHOO</th>\n",
              "      <th>TWTR</th>\n",
              "      <th>AAPL</th>\n",
              "    </tr>\n",
              "  </thead>\n",
              "  <tbody>\n",
              "    <tr>\n",
              "      <th>Beta</th>\n",
              "      <td>0.52</td>\n",
              "      <td>0.87</td>\n",
              "      <td>NaN</td>\n",
              "      <td>0.66</td>\n",
              "      <td>NaN</td>\n",
              "      <td>0.84</td>\n",
              "    </tr>\n",
              "    <tr>\n",
              "      <th>Closing price</th>\n",
              "      <td>346.15</td>\n",
              "      <td>1133.43</td>\n",
              "      <td>61.48</td>\n",
              "      <td>34.90</td>\n",
              "      <td>65.25</td>\n",
              "      <td>501.53</td>\n",
              "    </tr>\n",
              "    <tr>\n",
              "      <th>EPS</th>\n",
              "      <td>0.59</td>\n",
              "      <td>36.05</td>\n",
              "      <td>0.59</td>\n",
              "      <td>1.27</td>\n",
              "      <td>-0.30</td>\n",
              "      <td>40.32</td>\n",
              "    </tr>\n",
              "    <tr>\n",
              "      <th>Market Cap(B)</th>\n",
              "      <td>158.88</td>\n",
              "      <td>380.64</td>\n",
              "      <td>150.92</td>\n",
              "      <td>35.36</td>\n",
              "      <td>36.23</td>\n",
              "      <td>447.59</td>\n",
              "    </tr>\n",
              "    <tr>\n",
              "      <th>P/E</th>\n",
              "      <td>589.80</td>\n",
              "      <td>31.44</td>\n",
              "      <td>104.93</td>\n",
              "      <td>27.48</td>\n",
              "      <td>NaN</td>\n",
              "      <td>12.44</td>\n",
              "    </tr>\n",
              "    <tr>\n",
              "      <th>Shares Outstanding(M)</th>\n",
              "      <td>459.00</td>\n",
              "      <td>335.83</td>\n",
              "      <td>2450.00</td>\n",
              "      <td>1010.00</td>\n",
              "      <td>555.20</td>\n",
              "      <td>892.45</td>\n",
              "    </tr>\n",
              "  </tbody>\n",
              "</table>\n",
              "</div>"
            ],
            "text/plain": [
              "                         AMZN     GOOG       FB     YHOO    TWTR    AAPL\n",
              "Beta                     0.52     0.87      NaN     0.66     NaN    0.84\n",
              "Closing price          346.15  1133.43    61.48    34.90   65.25  501.53\n",
              "EPS                      0.59    36.05     0.59     1.27   -0.30   40.32\n",
              "Market Cap(B)          158.88   380.64   150.92    35.36   36.23  447.59\n",
              "P/E                    589.80    31.44   104.93    27.48     NaN   12.44\n",
              "Shares Outstanding(M)  459.00   335.83  2450.00  1010.00  555.20  892.45"
            ]
          },
          "metadata": {},
          "execution_count": 59
        }
      ]
    },
    {
      "cell_type": "code",
      "metadata": {
        "id": "X6DcmGfcMI-F"
      },
      "source": [
        "stock_df = pd.DataFrame(stock, \n",
        "                        index = \n",
        "                        ['Beta','Closing price','EPS','Market Cap(B)','P/E','Shares Outstanding(M)'],\n",
        "                        columns = \n",
        "                        ['AMZN','GOOG','FB'])"
      ],
      "execution_count": null,
      "outputs": []
    },
    {
      "cell_type": "code",
      "metadata": {
        "colab": {
          "base_uri": "https://localhost:8080/"
        },
        "id": "riyFXbYyNFmk",
        "outputId": "9da2d33d-acee-40bf-fd27-66ac0cfebbb7"
      },
      "source": [
        "# Método que retorna os índices do df\n",
        "stock_df.index"
      ],
      "execution_count": null,
      "outputs": [
        {
          "output_type": "execute_result",
          "data": {
            "text/plain": [
              "Index(['Beta', 'Closing price', 'EPS', 'Market Cap(B)', 'P/E',\n",
              "       'Shares Outstanding(M)'],\n",
              "      dtype='object')"
            ]
          },
          "metadata": {},
          "execution_count": 80
        }
      ]
    },
    {
      "cell_type": "code",
      "metadata": {
        "colab": {
          "base_uri": "https://localhost:8080/"
        },
        "id": "7tQ4qqI7OhjN",
        "outputId": "94d29fe0-5529-45e6-945f-2068a31e066c"
      },
      "source": [
        "# Método que retorna as colunas do df\n",
        "stock_df.columns"
      ],
      "execution_count": null,
      "outputs": [
        {
          "output_type": "execute_result",
          "data": {
            "text/plain": [
              "Index(['AMZN', 'GOOG', 'FB'], dtype='object')"
            ]
          },
          "metadata": {},
          "execution_count": 81
        }
      ]
    },
    {
      "cell_type": "code",
      "metadata": {
        "colab": {
          "base_uri": "https://localhost:8080/",
          "height": 142
        },
        "id": "E3COKqpONHPc",
        "outputId": "189b2289-e9a4-466b-ef88-34b651cf3d73"
      },
      "source": [
        "# A propriedade pandas.DataFrame.T é usada para transpor o índice e as colunas do quadro de dados. \n",
        "# Está de alguma forma relacionada ao método transpose ().\n",
        "stock_df.T"
      ],
      "execution_count": null,
      "outputs": [
        {
          "output_type": "execute_result",
          "data": {
            "text/html": [
              "<div>\n",
              "<style scoped>\n",
              "    .dataframe tbody tr th:only-of-type {\n",
              "        vertical-align: middle;\n",
              "    }\n",
              "\n",
              "    .dataframe tbody tr th {\n",
              "        vertical-align: top;\n",
              "    }\n",
              "\n",
              "    .dataframe thead th {\n",
              "        text-align: right;\n",
              "    }\n",
              "</style>\n",
              "<table border=\"1\" class=\"dataframe\">\n",
              "  <thead>\n",
              "    <tr style=\"text-align: right;\">\n",
              "      <th></th>\n",
              "      <th>Beta</th>\n",
              "      <th>Closing price</th>\n",
              "      <th>EPS</th>\n",
              "      <th>Market Cap(B)</th>\n",
              "      <th>P/E</th>\n",
              "      <th>Shares Outstanding(M)</th>\n",
              "    </tr>\n",
              "  </thead>\n",
              "  <tbody>\n",
              "    <tr>\n",
              "      <th>AMZN</th>\n",
              "      <td>0.52</td>\n",
              "      <td>346.15</td>\n",
              "      <td>0.59</td>\n",
              "      <td>158.88</td>\n",
              "      <td>589.80</td>\n",
              "      <td>459.00</td>\n",
              "    </tr>\n",
              "    <tr>\n",
              "      <th>GOOG</th>\n",
              "      <td>0.87</td>\n",
              "      <td>1133.43</td>\n",
              "      <td>36.05</td>\n",
              "      <td>380.64</td>\n",
              "      <td>31.44</td>\n",
              "      <td>335.83</td>\n",
              "    </tr>\n",
              "    <tr>\n",
              "      <th>FB</th>\n",
              "      <td>NaN</td>\n",
              "      <td>61.48</td>\n",
              "      <td>0.59</td>\n",
              "      <td>150.92</td>\n",
              "      <td>104.93</td>\n",
              "      <td>2450.00</td>\n",
              "    </tr>\n",
              "  </tbody>\n",
              "</table>\n",
              "</div>"
            ],
            "text/plain": [
              "      Beta  Closing price    EPS  Market Cap(B)     P/E  Shares Outstanding(M)\n",
              "AMZN  0.52         346.15   0.59         158.88  589.80                 459.00\n",
              "GOOG  0.87        1133.43  36.05         380.64   31.44                 335.83\n",
              "FB     NaN          61.48   0.59         150.92  104.93                2450.00"
            ]
          },
          "metadata": {},
          "execution_count": 82
        }
      ]
    },
    {
      "cell_type": "markdown",
      "metadata": {
        "id": "-55Z1cAOQS7l"
      },
      "source": [
        "### Operações com DataFrames"
      ]
    },
    {
      "cell_type": "code",
      "metadata": {
        "id": "_3lVIMnyNs1U"
      },
      "source": [
        "# Dicionários aninhados\n",
        "Quadro_Medalhas_Rio_2016 = {\n",
        "    'USA' : {'Ouro':46, 'Prata':37, 'Bronze':38},\n",
        "    'China':{'Ouro':26, 'Prata':18, 'Bronze':26},\n",
        "    'Britain':{'Ouro':27, 'Prata':23, 'Bronze':17},\n",
        "    'Russe':{'Ouro':19, 'Prata':18, 'Bronze':19},\n",
        "    'Germany':{'Ouro':17, 'Prata':10, 'Bronze':15}}"
      ],
      "execution_count": 33,
      "outputs": []
    },
    {
      "cell_type": "code",
      "metadata": {
        "colab": {
          "base_uri": "https://localhost:8080/",
          "height": 142
        },
        "id": "FQQG-PV1QdxH",
        "outputId": "7eff909a-ffd6-462a-ddbf-554155656ff5"
      },
      "source": [
        "# Usando a função from_dict do pandas.Dataframe para transformar um dicionário em Dataframe do pandas\n",
        "rio_2016 = pd.DataFrame.from_dict(Quadro_Medalhas_Rio_2016)\n",
        "rio_2016"
      ],
      "execution_count": 41,
      "outputs": [
        {
          "output_type": "execute_result",
          "data": {
            "text/html": [
              "<div>\n",
              "<style scoped>\n",
              "    .dataframe tbody tr th:only-of-type {\n",
              "        vertical-align: middle;\n",
              "    }\n",
              "\n",
              "    .dataframe tbody tr th {\n",
              "        vertical-align: top;\n",
              "    }\n",
              "\n",
              "    .dataframe thead th {\n",
              "        text-align: right;\n",
              "    }\n",
              "</style>\n",
              "<table border=\"1\" class=\"dataframe\">\n",
              "  <thead>\n",
              "    <tr style=\"text-align: right;\">\n",
              "      <th></th>\n",
              "      <th>USA</th>\n",
              "      <th>China</th>\n",
              "      <th>Britain</th>\n",
              "      <th>Russe</th>\n",
              "      <th>Germany</th>\n",
              "    </tr>\n",
              "  </thead>\n",
              "  <tbody>\n",
              "    <tr>\n",
              "      <th>Ouro</th>\n",
              "      <td>46</td>\n",
              "      <td>26</td>\n",
              "      <td>27</td>\n",
              "      <td>19</td>\n",
              "      <td>17</td>\n",
              "    </tr>\n",
              "    <tr>\n",
              "      <th>Prata</th>\n",
              "      <td>37</td>\n",
              "      <td>18</td>\n",
              "      <td>23</td>\n",
              "      <td>18</td>\n",
              "      <td>10</td>\n",
              "    </tr>\n",
              "    <tr>\n",
              "      <th>Bronze</th>\n",
              "      <td>38</td>\n",
              "      <td>26</td>\n",
              "      <td>17</td>\n",
              "      <td>19</td>\n",
              "      <td>15</td>\n",
              "    </tr>\n",
              "  </tbody>\n",
              "</table>\n",
              "</div>"
            ],
            "text/plain": [
              "        USA  China  Britain  Russe  Germany\n",
              "Ouro     46     26       27     19       17\n",
              "Prata    37     18       23     18       10\n",
              "Bronze   38     26       17     19       15"
            ]
          },
          "metadata": {},
          "execution_count": 41
        }
      ]
    },
    {
      "cell_type": "code",
      "metadata": {
        "colab": {
          "base_uri": "https://localhost:8080/"
        },
        "id": "Fk50Fos4Q4vE",
        "outputId": "ff85a047-ff2b-4121-8996-5cd2cfa57511"
      },
      "source": [
        "# FilAtribuindo a uma variável apenas apenas a coluna 'China' do df\n",
        "medalhas_china = rio_2016['China']\n",
        "medalhas_china"
      ],
      "execution_count": 6,
      "outputs": [
        {
          "output_type": "execute_result",
          "data": {
            "text/plain": [
              "Ouro      26\n",
              "Prata     18\n",
              "Bronze    26\n",
              "Name: China, dtype: int64"
            ]
          },
          "metadata": {},
          "execution_count": 6
        }
      ]
    },
    {
      "cell_type": "code",
      "metadata": {
        "colab": {
          "base_uri": "https://localhost:8080/",
          "height": 142
        },
        "id": "sOK6FUlXRTmE",
        "outputId": "4228bb33-66f3-47c6-9205-6f7157f4a548"
      },
      "source": [
        "medalhas_euro = rio_2016[['Britain','Germany']]; medalhas_euro"
      ],
      "execution_count": 7,
      "outputs": [
        {
          "output_type": "execute_result",
          "data": {
            "text/html": [
              "<div>\n",
              "<style scoped>\n",
              "    .dataframe tbody tr th:only-of-type {\n",
              "        vertical-align: middle;\n",
              "    }\n",
              "\n",
              "    .dataframe tbody tr th {\n",
              "        vertical-align: top;\n",
              "    }\n",
              "\n",
              "    .dataframe thead th {\n",
              "        text-align: right;\n",
              "    }\n",
              "</style>\n",
              "<table border=\"1\" class=\"dataframe\">\n",
              "  <thead>\n",
              "    <tr style=\"text-align: right;\">\n",
              "      <th></th>\n",
              "      <th>Britain</th>\n",
              "      <th>Germany</th>\n",
              "    </tr>\n",
              "  </thead>\n",
              "  <tbody>\n",
              "    <tr>\n",
              "      <th>Ouro</th>\n",
              "      <td>27</td>\n",
              "      <td>17</td>\n",
              "    </tr>\n",
              "    <tr>\n",
              "      <th>Prata</th>\n",
              "      <td>23</td>\n",
              "      <td>10</td>\n",
              "    </tr>\n",
              "    <tr>\n",
              "      <th>Bronze</th>\n",
              "      <td>17</td>\n",
              "      <td>15</td>\n",
              "    </tr>\n",
              "  </tbody>\n",
              "</table>\n",
              "</div>"
            ],
            "text/plain": [
              "        Britain  Germany\n",
              "Ouro         27       17\n",
              "Prata        23       10\n",
              "Bronze       17       15"
            ]
          },
          "metadata": {},
          "execution_count": 7
        }
      ]
    },
    {
      "cell_type": "code",
      "metadata": {
        "colab": {
          "base_uri": "https://localhost:8080/"
        },
        "id": "b4NmK5JjR65M",
        "outputId": "d5da4400-5863-4012-8e5d-0f0ad340b6d1"
      },
      "source": [
        "rio_2016.get('Germany')"
      ],
      "execution_count": 8,
      "outputs": [
        {
          "output_type": "execute_result",
          "data": {
            "text/plain": [
              "Ouro      17\n",
              "Prata     10\n",
              "Bronze    15\n",
              "Name: Germany, dtype: int64"
            ]
          },
          "metadata": {},
          "execution_count": 8
        }
      ]
    },
    {
      "cell_type": "code",
      "metadata": {
        "id": "AoH7lUrGDppy",
        "outputId": "62babdf6-e773-4dbc-fd0c-1a81bbba4410",
        "colab": {
          "base_uri": "https://localhost:8080/"
        }
      },
      "source": [
        "rio_2016.loc['Prata','Germany']"
      ],
      "execution_count": 18,
      "outputs": [
        {
          "output_type": "execute_result",
          "data": {
            "text/plain": [
              "10"
            ]
          },
          "metadata": {},
          "execution_count": 18
        }
      ]
    },
    {
      "cell_type": "code",
      "metadata": {
        "id": "cO94srZTEiWN",
        "outputId": "877f71c3-80c7-470e-b1d4-56c0202daae7",
        "colab": {
          "base_uri": "https://localhost:8080/",
          "height": 142
        }
      },
      "source": [
        "# Filtrando apenas as colunas onde Ouro > 20\n",
        "rio_2016.loc[:,rio_2016.loc['Ouro']>20]"
      ],
      "execution_count": 25,
      "outputs": [
        {
          "output_type": "execute_result",
          "data": {
            "text/html": [
              "<div>\n",
              "<style scoped>\n",
              "    .dataframe tbody tr th:only-of-type {\n",
              "        vertical-align: middle;\n",
              "    }\n",
              "\n",
              "    .dataframe tbody tr th {\n",
              "        vertical-align: top;\n",
              "    }\n",
              "\n",
              "    .dataframe thead th {\n",
              "        text-align: right;\n",
              "    }\n",
              "</style>\n",
              "<table border=\"1\" class=\"dataframe\">\n",
              "  <thead>\n",
              "    <tr style=\"text-align: right;\">\n",
              "      <th></th>\n",
              "      <th>USA</th>\n",
              "      <th>China</th>\n",
              "      <th>Britain</th>\n",
              "    </tr>\n",
              "  </thead>\n",
              "  <tbody>\n",
              "    <tr>\n",
              "      <th>Ouro</th>\n",
              "      <td>46</td>\n",
              "      <td>26</td>\n",
              "      <td>27</td>\n",
              "    </tr>\n",
              "    <tr>\n",
              "      <th>Prata</th>\n",
              "      <td>37</td>\n",
              "      <td>18</td>\n",
              "      <td>23</td>\n",
              "    </tr>\n",
              "    <tr>\n",
              "      <th>Bronze</th>\n",
              "      <td>38</td>\n",
              "      <td>26</td>\n",
              "      <td>17</td>\n",
              "    </tr>\n",
              "  </tbody>\n",
              "</table>\n",
              "</div>"
            ],
            "text/plain": [
              "        USA  China  Britain\n",
              "Ouro     46     26       27\n",
              "Prata    37     18       23\n",
              "Bronze   38     26       17"
            ]
          },
          "metadata": {},
          "execution_count": 25
        }
      ]
    },
    {
      "cell_type": "code",
      "metadata": {
        "colab": {
          "base_uri": "https://localhost:8080/",
          "height": 110
        },
        "id": "VXGvC2zCUORE",
        "outputId": "b804ad5c-185c-4772-af03-1d597ea557bb"
      },
      "source": [
        "rio_2016.iloc[:2]"
      ],
      "execution_count": 26,
      "outputs": [
        {
          "output_type": "execute_result",
          "data": {
            "text/html": [
              "<div>\n",
              "<style scoped>\n",
              "    .dataframe tbody tr th:only-of-type {\n",
              "        vertical-align: middle;\n",
              "    }\n",
              "\n",
              "    .dataframe tbody tr th {\n",
              "        vertical-align: top;\n",
              "    }\n",
              "\n",
              "    .dataframe thead th {\n",
              "        text-align: right;\n",
              "    }\n",
              "</style>\n",
              "<table border=\"1\" class=\"dataframe\">\n",
              "  <thead>\n",
              "    <tr style=\"text-align: right;\">\n",
              "      <th></th>\n",
              "      <th>USA</th>\n",
              "      <th>China</th>\n",
              "      <th>Britain</th>\n",
              "      <th>Russe</th>\n",
              "      <th>Germany</th>\n",
              "    </tr>\n",
              "  </thead>\n",
              "  <tbody>\n",
              "    <tr>\n",
              "      <th>Ouro</th>\n",
              "      <td>46</td>\n",
              "      <td>26</td>\n",
              "      <td>27</td>\n",
              "      <td>19</td>\n",
              "      <td>17</td>\n",
              "    </tr>\n",
              "    <tr>\n",
              "      <th>Prata</th>\n",
              "      <td>37</td>\n",
              "      <td>18</td>\n",
              "      <td>23</td>\n",
              "      <td>18</td>\n",
              "      <td>10</td>\n",
              "    </tr>\n",
              "  </tbody>\n",
              "</table>\n",
              "</div>"
            ],
            "text/plain": [
              "       USA  China  Britain  Russe  Germany\n",
              "Ouro    46     26       27     19       17\n",
              "Prata   37     18       23     18       10"
            ]
          },
          "metadata": {},
          "execution_count": 26
        }
      ]
    },
    {
      "cell_type": "code",
      "metadata": {
        "id": "cd-3quf5Fhn2",
        "outputId": "20eb7c67-9c73-4f7f-805e-6f31efa68b0b",
        "colab": {
          "base_uri": "https://localhost:8080/"
        }
      },
      "source": [
        "rio_2016.iloc[2,0:3]"
      ],
      "execution_count": 29,
      "outputs": [
        {
          "output_type": "execute_result",
          "data": {
            "text/plain": [
              "USA        38\n",
              "China      26\n",
              "Britain    17\n",
              "Name: Bronze, dtype: int64"
            ]
          },
          "metadata": {},
          "execution_count": 29
        }
      ]
    },
    {
      "cell_type": "markdown",
      "metadata": {
        "id": "19uD28gYGFdH"
      },
      "source": [
        "### Removendo um membro do DataFrame"
      ]
    },
    {
      "cell_type": "code",
      "metadata": {
        "id": "lo4_O2OloQjM",
        "outputId": "83300971-ead0-449a-c050-58876b9fbfe3",
        "colab": {
          "base_uri": "https://localhost:8080/",
          "height": 142
        }
      },
      "source": [
        "del rio_2016['USA']\n",
        "rio_2016"
      ],
      "execution_count": 42,
      "outputs": [
        {
          "output_type": "execute_result",
          "data": {
            "text/html": [
              "<div>\n",
              "<style scoped>\n",
              "    .dataframe tbody tr th:only-of-type {\n",
              "        vertical-align: middle;\n",
              "    }\n",
              "\n",
              "    .dataframe tbody tr th {\n",
              "        vertical-align: top;\n",
              "    }\n",
              "\n",
              "    .dataframe thead th {\n",
              "        text-align: right;\n",
              "    }\n",
              "</style>\n",
              "<table border=\"1\" class=\"dataframe\">\n",
              "  <thead>\n",
              "    <tr style=\"text-align: right;\">\n",
              "      <th></th>\n",
              "      <th>China</th>\n",
              "      <th>Britain</th>\n",
              "      <th>Russe</th>\n",
              "      <th>Germany</th>\n",
              "    </tr>\n",
              "  </thead>\n",
              "  <tbody>\n",
              "    <tr>\n",
              "      <th>Ouro</th>\n",
              "      <td>26</td>\n",
              "      <td>27</td>\n",
              "      <td>19</td>\n",
              "      <td>17</td>\n",
              "    </tr>\n",
              "    <tr>\n",
              "      <th>Prata</th>\n",
              "      <td>18</td>\n",
              "      <td>23</td>\n",
              "      <td>18</td>\n",
              "      <td>10</td>\n",
              "    </tr>\n",
              "    <tr>\n",
              "      <th>Bronze</th>\n",
              "      <td>26</td>\n",
              "      <td>17</td>\n",
              "      <td>19</td>\n",
              "      <td>15</td>\n",
              "    </tr>\n",
              "  </tbody>\n",
              "</table>\n",
              "</div>"
            ],
            "text/plain": [
              "        China  Britain  Russe  Germany\n",
              "Ouro       26       27     19       17\n",
              "Prata      18       23     18       10\n",
              "Bronze     26       17     19       15"
            ]
          },
          "metadata": {},
          "execution_count": 42
        }
      ]
    },
    {
      "cell_type": "markdown",
      "metadata": {
        "id": "cjJSe7VtGZQM"
      },
      "source": [
        "### Inserindo membros\n"
      ]
    },
    {
      "cell_type": "code",
      "metadata": {
        "id": "oz1c06RbGNUc",
        "outputId": "96006683-7675-4007-ad19-a51d6c9e3b6f",
        "colab": {
          "base_uri": "https://localhost:8080/",
          "height": 142
        }
      },
      "source": [
        "# O primeiro argumento do .insert é a posição de inserção da nova coluna, nome e por último os valores para cada linha\n",
        "rio_2016.insert(1,'Brazil',(7,6,6))\n",
        "rio_2016"
      ],
      "execution_count": 43,
      "outputs": [
        {
          "output_type": "execute_result",
          "data": {
            "text/html": [
              "<div>\n",
              "<style scoped>\n",
              "    .dataframe tbody tr th:only-of-type {\n",
              "        vertical-align: middle;\n",
              "    }\n",
              "\n",
              "    .dataframe tbody tr th {\n",
              "        vertical-align: top;\n",
              "    }\n",
              "\n",
              "    .dataframe thead th {\n",
              "        text-align: right;\n",
              "    }\n",
              "</style>\n",
              "<table border=\"1\" class=\"dataframe\">\n",
              "  <thead>\n",
              "    <tr style=\"text-align: right;\">\n",
              "      <th></th>\n",
              "      <th>China</th>\n",
              "      <th>Brazil</th>\n",
              "      <th>Britain</th>\n",
              "      <th>Russe</th>\n",
              "      <th>Germany</th>\n",
              "    </tr>\n",
              "  </thead>\n",
              "  <tbody>\n",
              "    <tr>\n",
              "      <th>Ouro</th>\n",
              "      <td>26</td>\n",
              "      <td>7</td>\n",
              "      <td>27</td>\n",
              "      <td>19</td>\n",
              "      <td>17</td>\n",
              "    </tr>\n",
              "    <tr>\n",
              "      <th>Prata</th>\n",
              "      <td>18</td>\n",
              "      <td>6</td>\n",
              "      <td>23</td>\n",
              "      <td>18</td>\n",
              "      <td>10</td>\n",
              "    </tr>\n",
              "    <tr>\n",
              "      <th>Bronze</th>\n",
              "      <td>26</td>\n",
              "      <td>6</td>\n",
              "      <td>17</td>\n",
              "      <td>19</td>\n",
              "      <td>15</td>\n",
              "    </tr>\n",
              "  </tbody>\n",
              "</table>\n",
              "</div>"
            ],
            "text/plain": [
              "        China  Brazil  Britain  Russe  Germany\n",
              "Ouro       26       7       27     19       17\n",
              "Prata      18       6       23     18       10\n",
              "Bronze     26       6       17     19       15"
            ]
          },
          "metadata": {},
          "execution_count": 43
        }
      ]
    },
    {
      "cell_type": "code",
      "metadata": {
        "id": "QR-kZkWaGvik",
        "outputId": "0aac4425-c872-47e8-efef-34b3625f2728",
        "colab": {
          "base_uri": "https://localhost:8080/",
          "height": 295
        }
      },
      "source": [
        "rio_2016.describe()"
      ],
      "execution_count": 44,
      "outputs": [
        {
          "output_type": "execute_result",
          "data": {
            "text/html": [
              "<div>\n",
              "<style scoped>\n",
              "    .dataframe tbody tr th:only-of-type {\n",
              "        vertical-align: middle;\n",
              "    }\n",
              "\n",
              "    .dataframe tbody tr th {\n",
              "        vertical-align: top;\n",
              "    }\n",
              "\n",
              "    .dataframe thead th {\n",
              "        text-align: right;\n",
              "    }\n",
              "</style>\n",
              "<table border=\"1\" class=\"dataframe\">\n",
              "  <thead>\n",
              "    <tr style=\"text-align: right;\">\n",
              "      <th></th>\n",
              "      <th>China</th>\n",
              "      <th>Brazil</th>\n",
              "      <th>Britain</th>\n",
              "      <th>Russe</th>\n",
              "      <th>Germany</th>\n",
              "    </tr>\n",
              "  </thead>\n",
              "  <tbody>\n",
              "    <tr>\n",
              "      <th>count</th>\n",
              "      <td>3.000000</td>\n",
              "      <td>3.000000</td>\n",
              "      <td>3.000000</td>\n",
              "      <td>3.000000</td>\n",
              "      <td>3.000000</td>\n",
              "    </tr>\n",
              "    <tr>\n",
              "      <th>mean</th>\n",
              "      <td>23.333333</td>\n",
              "      <td>6.333333</td>\n",
              "      <td>22.333333</td>\n",
              "      <td>18.666667</td>\n",
              "      <td>14.000000</td>\n",
              "    </tr>\n",
              "    <tr>\n",
              "      <th>std</th>\n",
              "      <td>4.618802</td>\n",
              "      <td>0.577350</td>\n",
              "      <td>5.033223</td>\n",
              "      <td>0.577350</td>\n",
              "      <td>3.605551</td>\n",
              "    </tr>\n",
              "    <tr>\n",
              "      <th>min</th>\n",
              "      <td>18.000000</td>\n",
              "      <td>6.000000</td>\n",
              "      <td>17.000000</td>\n",
              "      <td>18.000000</td>\n",
              "      <td>10.000000</td>\n",
              "    </tr>\n",
              "    <tr>\n",
              "      <th>25%</th>\n",
              "      <td>22.000000</td>\n",
              "      <td>6.000000</td>\n",
              "      <td>20.000000</td>\n",
              "      <td>18.500000</td>\n",
              "      <td>12.500000</td>\n",
              "    </tr>\n",
              "    <tr>\n",
              "      <th>50%</th>\n",
              "      <td>26.000000</td>\n",
              "      <td>6.000000</td>\n",
              "      <td>23.000000</td>\n",
              "      <td>19.000000</td>\n",
              "      <td>15.000000</td>\n",
              "    </tr>\n",
              "    <tr>\n",
              "      <th>75%</th>\n",
              "      <td>26.000000</td>\n",
              "      <td>6.500000</td>\n",
              "      <td>25.000000</td>\n",
              "      <td>19.000000</td>\n",
              "      <td>16.000000</td>\n",
              "    </tr>\n",
              "    <tr>\n",
              "      <th>max</th>\n",
              "      <td>26.000000</td>\n",
              "      <td>7.000000</td>\n",
              "      <td>27.000000</td>\n",
              "      <td>19.000000</td>\n",
              "      <td>17.000000</td>\n",
              "    </tr>\n",
              "  </tbody>\n",
              "</table>\n",
              "</div>"
            ],
            "text/plain": [
              "           China    Brazil    Britain      Russe    Germany\n",
              "count   3.000000  3.000000   3.000000   3.000000   3.000000\n",
              "mean   23.333333  6.333333  22.333333  18.666667  14.000000\n",
              "std     4.618802  0.577350   5.033223   0.577350   3.605551\n",
              "min    18.000000  6.000000  17.000000  18.000000  10.000000\n",
              "25%    22.000000  6.000000  20.000000  18.500000  12.500000\n",
              "50%    26.000000  6.000000  23.000000  19.000000  15.000000\n",
              "75%    26.000000  6.500000  25.000000  19.000000  16.000000\n",
              "max    26.000000  7.000000  27.000000  19.000000  17.000000"
            ]
          },
          "metadata": {},
          "execution_count": 44
        }
      ]
    },
    {
      "cell_type": "code",
      "metadata": {
        "id": "QkLQPqLfHadW"
      },
      "source": [
        ""
      ],
      "execution_count": null,
      "outputs": []
    }
  ]
}